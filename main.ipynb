{
 "cells": [
  {
   "cell_type": "code",
   "execution_count": null,
   "metadata": {},
   "outputs": [],
   "source": [
    "from core import make_compound_data\n",
    "from utils.compound_object import pick_what_separate\n",
    "from utils.file import select_sheets\n",
    "from core.pca_visualization import PCA_plot\n",
    "\n",
    "file_path = 'Project_2.xlsx'\n",
    "selected_sheets = select_sheets(file_path)"
   ]
  },
  {
   "cell_type": "code",
   "execution_count": null,
   "metadata": {},
   "outputs": [],
   "source": [
    "compounds_binary, compounds_ternary, mixed_compounds_groups = make_compound_data(file_path, selected_sheets)\n",
    "all_compounds = compounds_binary + compounds_ternary\n",
    "\n",
    "fixed_elements = pick_what_separate(all_compounds, ternary_elements=[\"Cd\", \"Ru\"])\n",
    "\n",
    "PCA_plot(all_compounds, use_full_element_list=False)"
   ]
  },
  {
   "cell_type": "code",
   "execution_count": null,
   "metadata": {},
   "outputs": [],
   "source": [
    "from utils.make_periodic_table import periodic_table\n",
    "from utils.table_coordinates import excel_to_dataframe, create_element_dict\n",
    "from core.table_visualization import display_table   \n",
    " \n",
    "coord_df, coord_sheet_name = excel_to_dataframe('classic_table')\n",
    "element_dict = create_element_dict(coord_df)  \n",
    "periodic_table_ax = periodic_table(coord_df, coord_sheet_name)\n",
    "\n",
    "display_table(periodic_table_ax, all_compounds, element_dict, coord_sheet_name) "
   ]
  },
  {
   "cell_type": "code",
   "execution_count": null,
   "metadata": {},
   "outputs": [],
   "source": [
    "coord_df, coord_sheet_name = excel_to_dataframe('long_table')\n",
    "element_dict = create_element_dict(coord_df)  \n",
    "periodic_table_ax = periodic_table(coord_df, coord_sheet_name)\n",
    "\n",
    "display_table(periodic_table_ax, all_compounds, element_dict, coord_sheet_name) "
   ]
  },
  {
   "cell_type": "code",
   "execution_count": null,
   "metadata": {},
   "outputs": [],
   "source": [
    "coord_df, coord_sheet_name = excel_to_dataframe('separated_table')\n",
    "element_dict = create_element_dict(coord_df)  \n",
    "periodic_table_ax = periodic_table(coord_df, coord_sheet_name)\n",
    "\n",
    "display_table(periodic_table_ax, all_compounds, element_dict, coord_sheet_name) "
   ]
  }
 ],
 "metadata": {
  "kernelspec": {
   "display_name": "binary",
   "language": "python",
   "name": "python3"
  },
  "language_info": {
   "codemirror_mode": {
    "name": "ipython",
    "version": 3
   },
   "file_extension": ".py",
   "mimetype": "text/x-python",
   "name": "python",
   "nbconvert_exporter": "python",
   "pygments_lexer": "ipython3",
   "version": "3.9.20"
  }
 },
 "nbformat": 4,
 "nbformat_minor": 2
}
